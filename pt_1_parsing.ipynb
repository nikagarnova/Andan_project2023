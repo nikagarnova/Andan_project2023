{
  "nbformat": 4,
  "nbformat_minor": 0,
  "metadata": {
    "colab": {
      "provenance": []
    },
    "kernelspec": {
      "name": "python3",
      "display_name": "Python 3"
    },
    "language_info": {
      "name": "python"
    }
  },
  "cells": [
    {
      "cell_type": "markdown",
      "source": [
        "# Этап 1. Парсинг данных\n",
        "\n",
        "В этом разделе собираем данные для дальнейшего анализа.\n",
        "\n",
        "[Источник](https://www.imdb.com/search/title/?title_type=feature)"
      ],
      "metadata": {
        "id": "jSDVZTzsIi92"
      }
    },
    {
      "cell_type": "code",
      "execution_count": null,
      "metadata": {
        "colab": {
          "base_uri": "https://localhost:8080/"
        },
        "id": "aHuKBd2au3MB",
        "outputId": "7803f07f-4c3b-4df7-e001-87df305b4cec"
      },
      "outputs": [
        {
          "output_type": "stream",
          "name": "stdout",
          "text": [
            "Looking in indexes: https://pypi.org/simple, https://us-python.pkg.dev/colab-wheels/public/simple/\n",
            "Requirement already satisfied: requests in /usr/local/lib/python3.10/dist-packages (2.27.1)\n",
            "Requirement already satisfied: urllib3<1.27,>=1.21.1 in /usr/local/lib/python3.10/dist-packages (from requests) (1.26.15)\n",
            "Requirement already satisfied: certifi>=2017.4.17 in /usr/local/lib/python3.10/dist-packages (from requests) (2022.12.7)\n",
            "Requirement already satisfied: charset-normalizer~=2.0.0 in /usr/local/lib/python3.10/dist-packages (from requests) (2.0.12)\n",
            "Requirement already satisfied: idna<4,>=2.5 in /usr/local/lib/python3.10/dist-packages (from requests) (3.4)\n",
            "/bin/bash: -c: line 0: unexpected EOF while looking for matching ``'\n",
            "/bin/bash: -c: line 1: syntax error: unexpected end of file\n"
          ]
        }
      ],
      "source": [
        "!pip install requests\n",
        "!pip install beautifulsoup4`\n",
        "\n",
        "import requests\n",
        "from bs4 import BeautifulSoup\n",
        "import pandas as pd"
      ]
    },
    {
      "cell_type": "markdown",
      "source": [
        "Создадим функцию, которая будет собирать необходиимые данные с 1 страницы (на странице 50 фильмов)."
      ],
      "metadata": {
        "id": "W318k1mQI1QW"
      }
    },
    {
      "cell_type": "code",
      "source": [
        "def parse_imdb_page():\n",
        "    while True:\n",
        "        url = yield\n",
        "        response = requests.get(url=url, headers={'Accept-Language': 'ru-RU,ru;q=0.9,en-US;q=0.8,en;q=0.7'})\n",
        "        if not response.ok:\n",
        "            return None\n",
        "\n",
        "        soup = BeautifulSoup(response.text, 'html.parser')\n",
        "        all_films = soup.find_all('div', class_='lister-item mode-advanced')\n",
        "        # 'div' - тег блока, под которым у нас вся инфа о фильме. class_ - класс блока\n",
        "\n",
        "        parsed_films_list = []\n",
        "\n",
        "        for film in all_films:\n",
        "            if (film_content := film.find('div', class_='lister-item-content')) is not None:\n",
        "                film_header = film_content.find('h3', class_='lister-item-header')\n",
        "                film_name = film_header.find('a').text.strip()\n",
        "                film_url = film_header.find('a')['href']\n",
        "                film_global_rate = film_header.find('span', class_='lister-item-index unbold text-primary').text.strip()\n",
        "                film_year = film_header.find('span', class_='lister-item-year text-muted unbold').text.strip()\n",
        "                film_rates = film_content.find('div', class_='ratings-bar')\n",
        "\n",
        "                try: # Не у всех фильмов есть отметки на meta score & imdb. Поэтому пробуем их найти\n",
        "                    film_imdb_rate = film_rates.find('div', class_='inline-block ratings-imdb-rating')['data-value'] # rate по imdb\n",
        "                    film_meta_score_rate = film_rates.find('div', class_='inline-block ratings-metascore').find('span').text.strip() # rate на meta score\n",
        "                except:\n",
        "                    film_imdb_rate = None\n",
        "                    film_meta_score_rate = None\n",
        "\n",
        "                film_muted_spans = film_content.find_all('p', class_='text-muted')\n",
        "\n",
        "                for film_desc in film_muted_spans:\n",
        "                    genre = film_desc.find('span', class_='genre')\n",
        "                    duration = film_desc.find('span', class_='runtime')\n",
        "                    if genre or duration:\n",
        "                        film_duration = None if not duration else duration.text.strip()\n",
        "                        if genre is not None:\n",
        "                            film_genre = genre.text.strip()\n",
        "                        else:\n",
        "                            film_genre = None\n",
        "                    else:\n",
        "                        film_description = film_desc.text.strip()\n",
        "\n",
        "                try: # Не у всех фильмов есть кол-во голосов, так что пробуем их найти\n",
        "                    film_votes = film_content.find('p', class_='sort-num_votes-visible').find(\n",
        "                        'span',\n",
        "                        attrs={'name': 'nv'}\n",
        "                    )['data-value']\n",
        "                except:\n",
        "                    film_votes = None\n",
        "\n",
        "                parsed_films_list.append({\n",
        "                    'name': film_name,\n",
        "                    'url': film_url,\n",
        "                    'global_rate': film_global_rate,\n",
        "                    'release_year': film_year,\n",
        "                    'imdb_rate': film_imdb_rate,\n",
        "                    'metascore_rate': film_meta_score_rate,\n",
        "                    'description': film_description,\n",
        "                    'votes': film_votes,\n",
        "                    'duration': film_duration,\n",
        "                    'genre': film_genre\n",
        "                })\n",
        "\n",
        "        yield parsed_films_list\n"
      ],
      "metadata": {
        "id": "Fj4RxHwcIhmv"
      },
      "execution_count": 11,
      "outputs": []
    },
    {
      "cell_type": "markdown",
      "source": [
        "Соберем функцию, чтобы мы могли спокойно переключаться между страницами и собрать большую базу."
      ],
      "metadata": {
        "id": "fxg27DvsI-oJ"
      }
    },
    {
      "cell_type": "code",
      "source": [
        "def get_result(max_count: int = 5000):\n",
        "    cour = parse_imdb_page()\n",
        "    next(cour)\n",
        "    info = cour.send('https://www.imdb.com/search/title/?title_type=feature')\n",
        "    for count in range(51, max_count, 50):\n",
        "        next_url = f'https://www.imdb.com/search/title/?title_type=feature&start={count}&ref_=adv_nxt'\n",
        "        next(cour)\n",
        "        info += cour.send(next_url)\n",
        "    else:\n",
        "        cour.close()\n",
        "    return info\n",
        "result = get_result()\n"
      ],
      "metadata": {
        "id": "iX7kqdhWJqtB"
      },
      "execution_count": 12,
      "outputs": []
    },
    {
      "cell_type": "markdown",
      "source": [
        "Соберем наши данные в файл:"
      ],
      "metadata": {
        "id": "U4jZ-x-yJzLX"
      }
    },
    {
      "cell_type": "code",
      "source": [
        "\n",
        "df = pd.DataFrame(result, columns=list(result[0].keys()))\n",
        "df.to_csv('list.csv', index=False)"
      ],
      "metadata": {
        "id": "Vt3ZuWKKJsTw"
      },
      "execution_count": 13,
      "outputs": []
    },
    {
      "cell_type": "markdown",
      "source": [
        "Данные лежат в файле list.csv, уберем в табличке ссылки на фильмы и будет готово!"
      ],
      "metadata": {
        "id": "4va_OSIrRNEw"
      }
    },
    {
      "cell_type": "code",
      "source": [
        "df = df.drop('url', axis=1)\n",
        "df.head()"
      ],
      "metadata": {
        "id": "7aOQ-ASQRS4h",
        "outputId": "6614dd15-d1ee-4928-c4b2-688e4d60093a",
        "colab": {
          "base_uri": "https://localhost:8080/",
          "height": 337
        }
      },
      "execution_count": 14,
      "outputs": [
        {
          "output_type": "execute_result",
          "data": {
            "text/plain": [
              "                                   name global_rate release_year imdb_rate  \\\n",
              "0       Человек-паук: Паутина вселенных          1.       (2023)         9   \n",
              "1                             Русалочка          2.   (I) (2023)       7,2   \n",
              "2  Трансформеры: Восхождение Звероботов          3.       (2023)       6,6   \n",
              "3                         Неудержимые 4          4.       (2023)      None   \n",
              "4         Человек-паук: Через Вселенные          5.       (2018)       8,4   \n",
              "\n",
              "  metascore_rate                                        description   votes  \\\n",
              "0             86  Miles Morales catapults across the Multiverse,...  112055   \n",
              "1             59  A young mermaid makes a deal with a sea witch ...   79594   \n",
              "2             42  During the '90s, a new faction of Transformers...   16401   \n",
              "3           None  The Expendables will square up against: an arm...    None   \n",
              "4             87  Teen Miles Morales becomes the Spider-Man of h...  584309   \n",
              "\n",
              "  duration                         genre  \n",
              "0  140 min  Animation, Action, Adventure  \n",
              "1  135 min    Adventure, Family, Fantasy  \n",
              "2  127 min     Action, Adventure, Sci-Fi  \n",
              "3     None   Action, Adventure, Thriller  \n",
              "4  117 min  Animation, Action, Adventure  "
            ],
            "text/html": [
              "\n",
              "  <div id=\"df-3e898bd1-d2a0-4a6d-9e4b-df02c969251c\">\n",
              "    <div class=\"colab-df-container\">\n",
              "      <div>\n",
              "<style scoped>\n",
              "    .dataframe tbody tr th:only-of-type {\n",
              "        vertical-align: middle;\n",
              "    }\n",
              "\n",
              "    .dataframe tbody tr th {\n",
              "        vertical-align: top;\n",
              "    }\n",
              "\n",
              "    .dataframe thead th {\n",
              "        text-align: right;\n",
              "    }\n",
              "</style>\n",
              "<table border=\"1\" class=\"dataframe\">\n",
              "  <thead>\n",
              "    <tr style=\"text-align: right;\">\n",
              "      <th></th>\n",
              "      <th>name</th>\n",
              "      <th>global_rate</th>\n",
              "      <th>release_year</th>\n",
              "      <th>imdb_rate</th>\n",
              "      <th>metascore_rate</th>\n",
              "      <th>description</th>\n",
              "      <th>votes</th>\n",
              "      <th>duration</th>\n",
              "      <th>genre</th>\n",
              "    </tr>\n",
              "  </thead>\n",
              "  <tbody>\n",
              "    <tr>\n",
              "      <th>0</th>\n",
              "      <td>Человек-паук: Паутина вселенных</td>\n",
              "      <td>1.</td>\n",
              "      <td>(2023)</td>\n",
              "      <td>9</td>\n",
              "      <td>86</td>\n",
              "      <td>Miles Morales catapults across the Multiverse,...</td>\n",
              "      <td>112055</td>\n",
              "      <td>140 min</td>\n",
              "      <td>Animation, Action, Adventure</td>\n",
              "    </tr>\n",
              "    <tr>\n",
              "      <th>1</th>\n",
              "      <td>Русалочка</td>\n",
              "      <td>2.</td>\n",
              "      <td>(I) (2023)</td>\n",
              "      <td>7,2</td>\n",
              "      <td>59</td>\n",
              "      <td>A young mermaid makes a deal with a sea witch ...</td>\n",
              "      <td>79594</td>\n",
              "      <td>135 min</td>\n",
              "      <td>Adventure, Family, Fantasy</td>\n",
              "    </tr>\n",
              "    <tr>\n",
              "      <th>2</th>\n",
              "      <td>Трансформеры: Восхождение Звероботов</td>\n",
              "      <td>3.</td>\n",
              "      <td>(2023)</td>\n",
              "      <td>6,6</td>\n",
              "      <td>42</td>\n",
              "      <td>During the '90s, a new faction of Transformers...</td>\n",
              "      <td>16401</td>\n",
              "      <td>127 min</td>\n",
              "      <td>Action, Adventure, Sci-Fi</td>\n",
              "    </tr>\n",
              "    <tr>\n",
              "      <th>3</th>\n",
              "      <td>Неудержимые 4</td>\n",
              "      <td>4.</td>\n",
              "      <td>(2023)</td>\n",
              "      <td>None</td>\n",
              "      <td>None</td>\n",
              "      <td>The Expendables will square up against: an arm...</td>\n",
              "      <td>None</td>\n",
              "      <td>None</td>\n",
              "      <td>Action, Adventure, Thriller</td>\n",
              "    </tr>\n",
              "    <tr>\n",
              "      <th>4</th>\n",
              "      <td>Человек-паук: Через Вселенные</td>\n",
              "      <td>5.</td>\n",
              "      <td>(2018)</td>\n",
              "      <td>8,4</td>\n",
              "      <td>87</td>\n",
              "      <td>Teen Miles Morales becomes the Spider-Man of h...</td>\n",
              "      <td>584309</td>\n",
              "      <td>117 min</td>\n",
              "      <td>Animation, Action, Adventure</td>\n",
              "    </tr>\n",
              "  </tbody>\n",
              "</table>\n",
              "</div>\n",
              "      <button class=\"colab-df-convert\" onclick=\"convertToInteractive('df-3e898bd1-d2a0-4a6d-9e4b-df02c969251c')\"\n",
              "              title=\"Convert this dataframe to an interactive table.\"\n",
              "              style=\"display:none;\">\n",
              "        \n",
              "  <svg xmlns=\"http://www.w3.org/2000/svg\" height=\"24px\"viewBox=\"0 0 24 24\"\n",
              "       width=\"24px\">\n",
              "    <path d=\"M0 0h24v24H0V0z\" fill=\"none\"/>\n",
              "    <path d=\"M18.56 5.44l.94 2.06.94-2.06 2.06-.94-2.06-.94-.94-2.06-.94 2.06-2.06.94zm-11 1L8.5 8.5l.94-2.06 2.06-.94-2.06-.94L8.5 2.5l-.94 2.06-2.06.94zm10 10l.94 2.06.94-2.06 2.06-.94-2.06-.94-.94-2.06-.94 2.06-2.06.94z\"/><path d=\"M17.41 7.96l-1.37-1.37c-.4-.4-.92-.59-1.43-.59-.52 0-1.04.2-1.43.59L10.3 9.45l-7.72 7.72c-.78.78-.78 2.05 0 2.83L4 21.41c.39.39.9.59 1.41.59.51 0 1.02-.2 1.41-.59l7.78-7.78 2.81-2.81c.8-.78.8-2.07 0-2.86zM5.41 20L4 18.59l7.72-7.72 1.47 1.35L5.41 20z\"/>\n",
              "  </svg>\n",
              "      </button>\n",
              "      \n",
              "  <style>\n",
              "    .colab-df-container {\n",
              "      display:flex;\n",
              "      flex-wrap:wrap;\n",
              "      gap: 12px;\n",
              "    }\n",
              "\n",
              "    .colab-df-convert {\n",
              "      background-color: #E8F0FE;\n",
              "      border: none;\n",
              "      border-radius: 50%;\n",
              "      cursor: pointer;\n",
              "      display: none;\n",
              "      fill: #1967D2;\n",
              "      height: 32px;\n",
              "      padding: 0 0 0 0;\n",
              "      width: 32px;\n",
              "    }\n",
              "\n",
              "    .colab-df-convert:hover {\n",
              "      background-color: #E2EBFA;\n",
              "      box-shadow: 0px 1px 2px rgba(60, 64, 67, 0.3), 0px 1px 3px 1px rgba(60, 64, 67, 0.15);\n",
              "      fill: #174EA6;\n",
              "    }\n",
              "\n",
              "    [theme=dark] .colab-df-convert {\n",
              "      background-color: #3B4455;\n",
              "      fill: #D2E3FC;\n",
              "    }\n",
              "\n",
              "    [theme=dark] .colab-df-convert:hover {\n",
              "      background-color: #434B5C;\n",
              "      box-shadow: 0px 1px 3px 1px rgba(0, 0, 0, 0.15);\n",
              "      filter: drop-shadow(0px 1px 2px rgba(0, 0, 0, 0.3));\n",
              "      fill: #FFFFFF;\n",
              "    }\n",
              "  </style>\n",
              "\n",
              "      <script>\n",
              "        const buttonEl =\n",
              "          document.querySelector('#df-3e898bd1-d2a0-4a6d-9e4b-df02c969251c button.colab-df-convert');\n",
              "        buttonEl.style.display =\n",
              "          google.colab.kernel.accessAllowed ? 'block' : 'none';\n",
              "\n",
              "        async function convertToInteractive(key) {\n",
              "          const element = document.querySelector('#df-3e898bd1-d2a0-4a6d-9e4b-df02c969251c');\n",
              "          const dataTable =\n",
              "            await google.colab.kernel.invokeFunction('convertToInteractive',\n",
              "                                                     [key], {});\n",
              "          if (!dataTable) return;\n",
              "\n",
              "          const docLinkHtml = 'Like what you see? Visit the ' +\n",
              "            '<a target=\"_blank\" href=https://colab.research.google.com/notebooks/data_table.ipynb>data table notebook</a>'\n",
              "            + ' to learn more about interactive tables.';\n",
              "          element.innerHTML = '';\n",
              "          dataTable['output_type'] = 'display_data';\n",
              "          await google.colab.output.renderOutput(dataTable, element);\n",
              "          const docLink = document.createElement('div');\n",
              "          docLink.innerHTML = docLinkHtml;\n",
              "          element.appendChild(docLink);\n",
              "        }\n",
              "      </script>\n",
              "    </div>\n",
              "  </div>\n",
              "  "
            ]
          },
          "metadata": {},
          "execution_count": 14
        }
      ]
    }
  ]
}